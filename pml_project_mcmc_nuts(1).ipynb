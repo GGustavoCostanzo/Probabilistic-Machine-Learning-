{
  "cells": [
    {
      "cell_type": "code",
      "execution_count": null,
      "metadata": {
        "id": "xZxDpAOiRrbs",
        "colab": {
          "base_uri": "https://localhost:8080/"
        },
        "outputId": "5efa5faf-05d3-4f3f-c18d-904400c2d134"
      },
      "outputs": [
        {
          "metadata": {
            "tags": null
          },
          "name": "stdout",
          "output_type": "stream",
          "text": [
            "Requirement already satisfied: pyro-ppl in /usr/local/lib/python3.10/dist-packages (1.8.5)\n",
            "Requirement already satisfied: numpy>=1.7 in /usr/local/lib/python3.10/dist-packages (from pyro-ppl) (1.22.4)\n",
            "Requirement already satisfied: opt-einsum>=2.3.2 in /usr/local/lib/python3.10/dist-packages (from pyro-ppl) (3.3.0)\n",
            "Requirement already satisfied: pyro-api>=0.1.1 in /usr/local/lib/python3.10/dist-packages (from pyro-ppl) (0.1.2)\n",
            "Requirement already satisfied: torch>=2.0.1 in /usr/local/lib/python3.10/dist-packages (from pyro-ppl) (2.0.1+cu118)\n",
            "Requirement already satisfied: tqdm>=4.36 in /usr/local/lib/python3.10/dist-packages (from pyro-ppl) (4.65.0)\n",
            "Requirement already satisfied: filelock in /usr/local/lib/python3.10/dist-packages (from torch>=2.0.1->pyro-ppl) (3.12.2)\n",
            "Requirement already satisfied: typing-extensions in /usr/local/lib/python3.10/dist-packages (from torch>=2.0.1->pyro-ppl) (4.7.1)\n",
            "Requirement already satisfied: sympy in /usr/local/lib/python3.10/dist-packages (from torch>=2.0.1->pyro-ppl) (1.11.1)\n",
            "Requirement already satisfied: networkx in /usr/local/lib/python3.10/dist-packages (from torch>=2.0.1->pyro-ppl) (3.1)\n",
            "Requirement already satisfied: jinja2 in /usr/local/lib/python3.10/dist-packages (from torch>=2.0.1->pyro-ppl) (3.1.2)\n",
            "Requirement already satisfied: triton==2.0.0 in /usr/local/lib/python3.10/dist-packages (from torch>=2.0.1->pyro-ppl) (2.0.0)\n",
            "Requirement already satisfied: cmake in /usr/local/lib/python3.10/dist-packages (from triton==2.0.0->torch>=2.0.1->pyro-ppl) (3.25.2)\n",
            "Requirement already satisfied: lit in /usr/local/lib/python3.10/dist-packages (from triton==2.0.0->torch>=2.0.1->pyro-ppl) (16.0.6)\n",
            "Requirement already satisfied: MarkupSafe>=2.0 in /usr/local/lib/python3.10/dist-packages (from jinja2->torch>=2.0.1->pyro-ppl) (2.1.3)\n",
            "Requirement already satisfied: mpmath>=0.19 in /usr/local/lib/python3.10/dist-packages (from sympy->torch>=2.0.1->pyro-ppl) (1.3.0)\n"
          ]
        }
      ],
      "source": [
        "!pip install pyro-ppl"
      ]
    },
    {
      "cell_type": "code",
      "execution_count": null,
      "metadata": {
        "id": "BIshF0WSR0FF"
      },
      "outputs": [],
      "source": [
        "#import libraries\n",
        "import pandas as pd\n",
        "import numpy as np\n",
        "import torch as th\n",
        "import matplotlib.pyplot as plt\n",
        "import pyro\n",
        "import pyro.distributions as dist\n",
        "import random\n",
        "from pyro.infer import HMC, MCMC,NUTS\n",
        "from sklearn.model_selection import train_test_split\n",
        "from sklearn.model_selection import KFold\n",
        "from imblearn.over_sampling import RandomOverSampler\n",
        "from sklearn.preprocessing import MinMaxScaler\n"
      ]
    },
    {
      "cell_type": "code",
      "execution_count": null,
      "metadata": {
        "id": "i9xi_440SYOx"
      },
      "outputs": [],
      "source": [
        "df=pd.read_csv(r'/content/diabetes.csv') #import dataset"
      ]
    },
    {
      "cell_type": "code",
      "execution_count": null,
      "metadata": {
        "id": "sWHAcpjjTK2q"
      },
      "outputs": [],
      "source": [
        "df.dropna(inplace=True) #drop null values"
      ]
    },
    {
      "cell_type": "code",
      "execution_count": null,
      "metadata": {
        "id": "SkeRYgvFTMBq"
      },
      "outputs": [],
      "source": [
        "X=df.drop(\"Outcome\",axis=1) #split between variables and target\n",
        "y=df.loc[:,'Outcome']"
      ]
    },
    {
      "cell_type": "code",
      "execution_count": null,
      "metadata": {
        "colab": {
          "base_uri": "https://localhost:8080/"
        },
        "id": "BWw9Z0FkTeVV",
        "outputId": "338d181a-7224-42f2-a6bd-aeeaa040cce4"
      },
      "outputs": [
        {
          "output_type": "stream",
          "name": "stdout",
          "text": [
            "The total number of patients is 768, the number of patients which have diabetes is 268\n"
          ]
        }
      ],
      "source": [
        "print(f\"The total number of patients is {len(y)}, the number of patients which have diabetes is {y.sum()}\")"
      ]
    },
    {
      "cell_type": "markdown",
      "metadata": {
        "id": "SbZNsDXITxAv"
      },
      "source": [
        "We can see that the dataset is unbalanced\n"
      ]
    },
    {
      "cell_type": "code",
      "source": [
        "for column in X.columns:\n",
        "    # Calculate the mean of non-zero values in the column\n",
        "    mean_without_zeros = X.loc[X[column] != 0, column].mean()\n",
        "\n",
        "    # Replace zeros with the calculated mean\n",
        "    X.loc[X[column] == 0, column] = mean_without_zeros\n",
        "\n",
        "seed = 1234\n",
        "random.seed(seed)\n",
        "np.random.seed(seed)\n",
        "th.manual_seed(seed)\n",
        "\n",
        "# Apply Min-Max scaling to X\n",
        "scaler = MinMaxScaler()\n",
        "X_scaled = scaler.fit_transform(X)"
      ],
      "metadata": {
        "id": "5oReTsC8FlhZ"
      },
      "execution_count": null,
      "outputs": []
    },
    {
      "cell_type": "code",
      "execution_count": null,
      "metadata": {
        "id": "HRVXNEArTwsi"
      },
      "outputs": [],
      "source": [
        "over_sampler = RandomOverSampler(random_state=1234) #balancing the data with over sampling\n",
        "X, y = over_sampler.fit_resample(X,y)\n",
        "X=X.to_numpy() #convert to numpy\n",
        "y=y.to_numpy()"
      ]
    },
    {
      "cell_type": "code",
      "execution_count": null,
      "metadata": {
        "id": "okcMGvkhhXy3"
      },
      "outputs": [],
      "source": [
        "kf=KFold(n_splits=5,shuffle=True)"
      ]
    },
    {
      "cell_type": "code",
      "execution_count": null,
      "metadata": {
        "id": "iADumplLrCIN"
      },
      "outputs": [],
      "source": [
        "#define the model: standard logistic function with uninformative priors\n",
        "def model(X,y):\n",
        "  prior_mean=th.zeros(X.shape[1])\n",
        "  prior_sd=th.ones(X.shape[1])\n",
        "  w=pyro.sample(\"w\",dist.Normal(prior_mean,prior_sd))\n",
        "\n",
        "  b=pyro.sample(\"b\",dist.Normal(0,1))\n",
        "\n",
        "  model=dist.Bernoulli(logits=b+th.matmul(X,w))\n",
        "\n",
        "  return pyro.sample(\"obs\",model,obs=y)"
      ]
    },
    {
      "cell_type": "code",
      "execution_count": null,
      "metadata": {
        "id": "mBffwRjNiaME"
      },
      "outputs": [],
      "source": [
        "accuracies=[] #lists to store accuracy, sensitivity and specificity on each fold\n",
        "sensitivities=[]\n",
        "specificities=[]\n",
        "\n",
        "def get_stats(y_pred,y_test):\n",
        "  accuracies.append((y_pred == y_test).sum().item() / len(y_test))\n",
        "  sensitivities.append((th.logical_and(y_pred==1, y_test==1).sum().item())/len(y_test[y_test==1]))\n",
        "  specificities.append((th.logical_and(y_pred==0, y_test==0).sum().item())/len(y_test[y_test==0]))"
      ]
    },
    {
      "cell_type": "code",
      "execution_count": null,
      "metadata": {
        "colab": {
          "base_uri": "https://localhost:8080/"
        },
        "id": "7I72c8UDrJ5x",
        "outputId": "b8878d9b-ea91-452a-ded0-9e77512157f1"
      },
      "outputs": [
        {
          "output_type": "stream",
          "name": "stderr",
          "text": [
            "/usr/local/lib/python3.10/dist-packages/pyro/infer/mcmc/api.py:497: UserWarning: num_chains=2 is more than available_cpu=1. Chains will be drawn sequentially.\n",
            "  warnings.warn(\n",
            "Sample [0]: 100%|██████████| 400/400 [01:47,  3.72it/s, step size=3.12e-02, acc. prob=0.955]\n",
            "Sample [1]: 100%|██████████| 400/400 [01:33,  4.29it/s, step size=3.59e-02, acc. prob=0.934]\n"
          ]
        },
        {
          "output_type": "stream",
          "name": "stdout",
          "text": [
            "\n",
            "                mean       std    median      5.0%     95.0%     n_eff     r_hat\n",
            "         b     -5.61      0.58     -5.57     -6.57     -4.75    300.10      1.00\n",
            "      w[0]      0.13      0.03      0.13      0.08      0.18    230.62      1.00\n",
            "      w[1]      0.03      0.00      0.03      0.03      0.04    592.62      1.00\n",
            "      w[2]     -0.03      0.01     -0.03     -0.04     -0.02    340.13      1.00\n",
            "      w[3]     -0.01      0.01     -0.01     -0.03      0.01    357.94      1.00\n",
            "      w[4]      0.00      0.00      0.00     -0.00      0.00    353.65      1.01\n",
            "      w[5]      0.07      0.02      0.07      0.04      0.09    309.59      1.00\n",
            "      w[6]      0.72      0.24      0.69      0.35      1.15    115.46      1.02\n",
            "      w[7]      0.02      0.01      0.02      0.01      0.04    325.27      1.00\n",
            "\n",
            "Number of divergences: 0\n"
          ]
        },
        {
          "output_type": "stream",
          "name": "stderr",
          "text": [
            "Sample [0]: 100%|██████████| 400/400 [01:29,  4.46it/s, step size=3.00e-02, acc. prob=0.937]\n",
            "Sample [1]: 100%|██████████| 400/400 [01:07,  5.92it/s, step size=3.32e-02, acc. prob=0.936]\n"
          ]
        },
        {
          "output_type": "stream",
          "name": "stdout",
          "text": [
            "\n",
            "                mean       std    median      5.0%     95.0%     n_eff     r_hat\n",
            "         b     -5.52      0.55     -5.53     -6.56     -4.72    392.52      1.00\n",
            "      w[0]      0.12      0.03      0.12      0.07      0.17    179.39      1.00\n",
            "      w[1]      0.03      0.00      0.03      0.02      0.03    628.58      1.00\n",
            "      w[2]     -0.03      0.01     -0.03     -0.04     -0.01    223.73      1.00\n",
            "      w[3]     -0.01      0.01     -0.01     -0.03      0.01    196.72      1.00\n",
            "      w[4]      0.00      0.00      0.00     -0.00      0.00    393.06      1.00\n",
            "      w[5]      0.08      0.02      0.08      0.05      0.10    167.54      1.00\n",
            "      w[6]      0.63      0.26      0.62      0.18      1.05    170.46      1.01\n",
            "      w[7]      0.02      0.01      0.02      0.01      0.04    333.47      1.00\n",
            "\n",
            "Number of divergences: 0\n"
          ]
        },
        {
          "output_type": "stream",
          "name": "stderr",
          "text": [
            "Sample [0]: 100%|██████████| 400/400 [01:14,  5.37it/s, step size=2.90e-02, acc. prob=0.940]\n",
            "Sample [1]: 100%|██████████| 400/400 [01:20,  4.96it/s, step size=3.36e-02, acc. prob=0.929]\n"
          ]
        },
        {
          "output_type": "stream",
          "name": "stdout",
          "text": [
            "\n",
            "                mean       std    median      5.0%     95.0%     n_eff     r_hat\n",
            "         b     -5.71      0.53     -5.73     -6.50     -4.76    427.26      1.00\n",
            "      w[0]      0.13      0.03      0.13      0.09      0.19    100.87      1.02\n",
            "      w[1]      0.03      0.00      0.03      0.02      0.03    833.04      1.00\n",
            "      w[2]     -0.03      0.01     -0.03     -0.04     -0.01    376.95      1.00\n",
            "      w[3]     -0.01      0.01     -0.01     -0.03      0.01    289.93      1.00\n",
            "      w[4]     -0.00      0.00     -0.00     -0.00      0.00    438.18      1.00\n",
            "      w[5]      0.08      0.02      0.08      0.06      0.11    283.71      1.00\n",
            "      w[6]      0.52      0.28      0.50     -0.01      0.92    259.53      1.02\n",
            "      w[7]      0.02      0.01      0.02      0.01      0.04    318.59      1.01\n",
            "\n",
            "Number of divergences: 0\n"
          ]
        },
        {
          "output_type": "stream",
          "name": "stderr",
          "text": [
            "Sample [0]: 100%|██████████| 400/400 [01:34,  4.25it/s, step size=3.76e-02, acc. prob=0.924]\n",
            "Sample [1]: 100%|██████████| 400/400 [01:45,  3.78it/s, step size=3.46e-02, acc. prob=0.945]\n"
          ]
        },
        {
          "output_type": "stream",
          "name": "stdout",
          "text": [
            "\n",
            "                mean       std    median      5.0%     95.0%     n_eff     r_hat\n",
            "         b     -5.56      0.56     -5.59     -6.54     -4.71    268.39      1.00\n",
            "      w[0]      0.15      0.03      0.15      0.10      0.20    230.65      1.00\n",
            "      w[1]      0.03      0.00      0.03      0.03      0.04    923.09      1.00\n",
            "      w[2]     -0.03      0.01     -0.03     -0.04     -0.02    242.79      1.00\n",
            "      w[3]     -0.00      0.01     -0.00     -0.02      0.02    297.40      1.00\n",
            "      w[4]     -0.00      0.00     -0.00     -0.00      0.00    418.12      1.00\n",
            "      w[5]      0.07      0.02      0.07      0.04      0.10    266.57      1.00\n",
            "      w[6]      0.59      0.24      0.59      0.16      0.94    302.52      1.00\n",
            "      w[7]      0.02      0.01      0.02      0.01      0.03    356.78      1.00\n",
            "\n",
            "Number of divergences: 0\n"
          ]
        },
        {
          "output_type": "stream",
          "name": "stderr",
          "text": [
            "Sample [0]: 100%|██████████| 400/400 [01:47,  3.72it/s, step size=3.23e-02, acc. prob=0.944]\n",
            "Sample [1]: 100%|██████████| 400/400 [02:13,  2.99it/s, step size=3.42e-02, acc. prob=0.929]"
          ]
        },
        {
          "output_type": "stream",
          "name": "stdout",
          "text": [
            "\n",
            "                mean       std    median      5.0%     95.0%     n_eff     r_hat\n",
            "         b     -5.25      0.56     -5.26     -5.99     -4.11    219.50      1.00\n",
            "      w[0]      0.15      0.03      0.15      0.10      0.20    277.17      1.01\n",
            "      w[1]      0.03      0.00      0.03      0.03      0.04    614.16      1.00\n",
            "      w[2]     -0.04      0.01     -0.04     -0.05     -0.03    276.87      1.00\n",
            "      w[3]     -0.01      0.01     -0.00     -0.03      0.01    324.44      1.00\n",
            "      w[4]     -0.00      0.00     -0.00     -0.00      0.00    357.45      1.02\n",
            "      w[5]      0.08      0.01      0.08      0.06      0.10    269.47      1.00\n",
            "      w[6]      0.60      0.25      0.61      0.22      1.00    234.61      1.00\n",
            "      w[7]      0.02      0.01      0.02      0.01      0.04    284.36      1.00\n",
            "\n",
            "Number of divergences: 0\n"
          ]
        },
        {
          "output_type": "stream",
          "name": "stderr",
          "text": [
            "\n"
          ]
        }
      ],
      "source": [
        "#now we'll run the model for each fold\n",
        "for i, (train_index, test_index) in enumerate(kf.split(X)):\n",
        "  X_train = th.tensor(X[train_index], dtype=th.float32) #split test and train sets\n",
        "  y_train = th.tensor(y[train_index], dtype=th.float32)\n",
        "  X_test = th.tensor(X[test_index], dtype=th.float32)\n",
        "  y_test = th.tensor(y[test_index], dtype=th.float32)\n",
        "\n",
        "  nuts_kernel = NUTS(model)\n",
        "  mcmc = MCMC(nuts_kernel, num_samples=200, warmup_steps=200,num_chains=2)\n",
        "  mcmc.run(X_train, y_train)\n",
        "\n",
        "  posterior_samples = mcmc.get_samples()\n",
        "\n",
        "  test_logits=posterior_samples['b']+th.matmul(X_test,posterior_samples['w'].T)\n",
        "  test_probabilities=th.sigmoid(test_logits)\n",
        "  test_mean_probabilities = test_probabilities.mean(dim=1)\n",
        "  test_predictions = (test_mean_probabilities > 0.5).to(th.float32)\n",
        "  get_stats(test_predictions,y_test)\n",
        "  mcmc.summary()\n"
      ]
    },
    {
      "cell_type": "code",
      "execution_count": null,
      "metadata": {
        "id": "gpi-kM6p6tlp",
        "colab": {
          "base_uri": "https://localhost:8080/"
        },
        "outputId": "ec0803af-ec30-4af4-da72-d4020469e8b6"
      },
      "outputs": [
        {
          "output_type": "stream",
          "name": "stdout",
          "text": [
            "Accuracy:0.743 \n",
            " Sensitivity:0.7336468712028431 \n",
            " Specificity:0.7517453085971075 \n"
          ]
        }
      ],
      "source": [
        "print(f\"Accuracy:{np.mean(accuracies)} \\n Sensitivity:{np.mean(sensitivities)} \\n Specificity:{np.mean(specificities)} \")"
      ]
    },
    {
      "cell_type": "code",
      "execution_count": null,
      "metadata": {
        "id": "Dzx_9fbN6vmH",
        "colab": {
          "base_uri": "https://localhost:8080/",
          "height": 452
        },
        "outputId": "96267cae-1e8f-49ad-f1df-d6605fddb7ff"
      },
      "outputs": [
        {
          "output_type": "display_data",
          "data": {
            "text/plain": [
              "<Figure size 640x480 with 1 Axes>"
            ],
            "image/png": "[encoded data removed]"
          },
          "metadata": {}
        }
      ],
      "source": [
        "plt.boxplot([accuracies,sensitivities,specificities])\n",
        "plt.xticks([1, 2,3], ['Accuracy','Sensitivty','Specificity'])\n",
        "plt.title(\"Markov Chain Montecarlo\")\n",
        "plt.show()"
      ]
    },
    {
      "cell_type": "markdown",
      "metadata": {
        "id": "AmNUqMCLa-Gu"
      },
      "source": [
        "We can see that for all parameters we reach convergence.\n",
        "\n",
        "Moreover, we can take some conclusions about the weight of each variable.\n",
        "Obviously the Diabetes Pedigree Function has a high positive correlation with having the diabetes.\n",
        "Also the number of pregnancies and the Body Mass Index have a significant high positive correlation with diabetes.\n",
        "Skin thickness and insulin don't seem to be playng a role, but this could be because the value is missing for a lot of rows."
      ]
    },
    {
      "cell_type": "code",
      "source": [
        "df.head(1)"
      ],
      "metadata": {
        "id": "mJH-w_lq1y7p"
      },
      "execution_count": null,
      "outputs": []
    },
    {
      "cell_type": "code",
      "source": [
        "accuracies"
      ],
      "metadata": {
        "colab": {
          "base_uri": "https://localhost:8080/"
        },
        "id": "oXeKo2liE1XX",
        "outputId": "7ffeaef9-79ae-4b73-877b-ef7e9b0c7f82"
      },
      "execution_count": null,
      "outputs": [
        {
          "output_type": "execute_result",
          "data": {
            "text/plain": [
              "[0.725, 0.77, 0.715, 0.75, 0.745]"
            ]
          },
          "metadata": {},
          "execution_count": 11
        }
      ]
    },
    {
      "cell_type": "code",
      "source": [
        "import matplotlib.patches as mpatches\n",
        "\n"
      ],
      "metadata": {
        "id": "_0OVHS_0JVWl"
      },
      "execution_count": null,
      "outputs": []
    },
    {
      "cell_type": "code",
      "source": [
        "\n",
        "# Data\n",
        "accuracies_mcmc = accuracies\n",
        "sensitivities_mcmc =sensitivities\n",
        "specificities_mcmc = specificities\n",
        "\n",
        "accuracies_svi = [0.745, 0.75, 0.665, 0.715, 0.755]\n",
        "sensitivities_svi =[0.71, 0.63, 0.85, 0.66, 0.81]\n",
        "specificities_svi = [0.78, 0.87, 0.48, 0.77, 0.7]\n",
        "\n",
        "# Boxplot\n",
        "plt.figure(figsize=(8, 6))\n",
        "\n",
        "# MCMC data\n",
        "bp_mcmc = plt.boxplot([accuracies_mcmc, sensitivities_mcmc, specificities_mcmc], positions=[1, 2, 3], widths=0.6, patch_artist=True)\n",
        "for box in bp_mcmc['boxes']:\n",
        "    box.set(facecolor='blue', alpha=0.5)\n",
        "\n",
        "# SVI data\n",
        "bp_svi = plt.boxplot([accuracies_svi, sensitivities_svi, specificities_svi], positions=[5, 6, 7], widths=0.6, patch_artist=True)\n",
        "for box in bp_svi['boxes']:\n",
        "    box.set(facecolor='green', alpha=0.5)\n",
        "\n",
        "# Labels and legends\n",
        "plt.xticks([1.5, 6], ['MCMC', 'SVI'])\n",
        "plt.xlabel('Inference Method')\n",
        "plt.ylabel('Metrics')\n",
        "plt.title('Boxplots of Accuracies, Sensitivities, and Specificities')\n",
        "\n",
        "# Legend for colors\n",
        "blue_patch = mpatches.Patch(color='blue', label='MCMC')\n",
        "green_patch = mpatches.Patch(color='green', label='SVI')\n",
        "plt.legend(handles=[blue_patch, green_patch], loc='upper right')\n",
        "\n",
        "plt.show()\n",
        "\n"
      ],
      "metadata": {
        "id": "TTK9ffJk7jGK",
        "colab": {
          "base_uri": "https://localhost:8080/",
          "height": 564
        },
        "outputId": "96c67302-d20c-4549-915b-50c0151ed9a6"
      },
      "execution_count": null,
      "outputs": [
        {
          "output_type": "display_data",
          "data": {
            "text/plain": [
              "<Figure size 800x600 with 1 Axes>"
            ],
            "image/png": "[encoded data removed]"
          },
          "metadata": {}
        }
      ]
    }
  ],
  "metadata": {
    "colab": {
      "provenance": []
    },
    "kernelspec": {
      "display_name": "Python 3",
      "name": "python3"
    },
    "language_info": {
      "name": "python"
    }
  },
  "nbformat": 4,
  "nbformat_minor": 0
}